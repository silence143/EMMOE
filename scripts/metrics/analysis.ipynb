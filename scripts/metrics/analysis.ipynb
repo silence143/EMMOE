{
 "cells": [
  {
   "cell_type": "code",
   "execution_count": 1,
   "metadata": {},
   "outputs": [],
   "source": [
    "import os \n",
    "import json\n",
    "import re"
   ]
  },
  {
   "cell_type": "code",
   "execution_count": 2,
   "metadata": {},
   "outputs": [],
   "source": [
    "exp_name = \"GPT4\" # Gemini GPT4 MiniCPM Qwen2VL"
   ]
  },
  {
   "cell_type": "code",
   "execution_count": null,
   "metadata": {},
   "outputs": [],
   "source": [
    "def parse_execution_history(history_string):\n",
    "    history_string = history_string.replace(\"Historical Execution: \", \"\")\n",
    "    historty_splits = re.split(r'(\\(fail\\)|\\(success\\))\\s', history_string)\n",
    "\n",
    "    parsed_steps = []\n",
    "\n",
    "    for i in range(0, len(historty_splits)-1, 2):\n",
    "        result = 'success' if 'success' in historty_splits[i+1] else 'fail'\n",
    "        action_parts = re.sub(r'\\(.*?\\)', '', historty_splits[i], 1).strip().lstrip('[').rstrip(']').split(',')\n",
    "        \n",
    "        parsed_step = [\n",
    "            action_parts[0].strip(),\n",
    "            action_parts[1].strip().lower() if len(action_parts) > 1 else \"None\",\n",
    "            action_parts[2].strip().lower() if len(action_parts) > 2 else \"None\",\n",
    "            result\n",
    "        ]\n",
    "        parsed_steps.append(parsed_step)\n",
    "\n",
    "    return parsed_steps\n"
   ]
  },
  {
   "cell_type": "code",
   "execution_count": null,
   "metadata": {},
   "outputs": [],
   "source": [
    "def subtask_feedback_list_gen(exp_name,round):\n",
    "\n",
    "    exp_path = os.path.join(\"exp\", exp_name)\n",
    "\n",
    "    subtask_feedback_list = []\n",
    "\n",
    "    for index in os.listdir(exp_path):\n",
    "        conv_path = os.path.join(exp_path, index, f\"{round}/conversation.json\")\n",
    "        if not os.path.exists(conv_path):\n",
    "            continue\n",
    "\n",
    "        with open(conv_path, 'r') as file:\n",
    "            conv = json.load(file)\n",
    "        \n",
    "         \n",
    "        exe_dict = {}\n",
    "        exe_dict[\"index\"] = int(index) \n",
    "        exe_dict[\"step_len\"] = len(conv)\n",
    "        exe_dict[\"history\"] = []\n",
    "        for i in range(1,len(conv)):\n",
    "            sub_dict = {}\n",
    "            sub_dict[\"step\"] = i\n",
    "            history = conv[i].split('\\n')[3]\n",
    "            sub_dict[\"subtask\"] = parse_execution_history(history)[-1]\n",
    "            feedback = conv[i].split('\\n')[4]\n",
    "            sub_dict[\"feedback\"] = feedback.replace(\"Feedback: \", \"\")\n",
    "            exe_dict[\"history\"].append(sub_dict)\n",
    "        subtask_feedback_list.append(exe_dict)\n",
    "\n",
    "    subtask_feedback_list = sorted(subtask_feedback_list, key=lambda x: x[\"index\"])\n",
    "\n",
    "    return subtask_feedback_list"
   ]
  },
  {
   "cell_type": "code",
   "execution_count": null,
   "metadata": {},
   "outputs": [
    {
     "name": "stdout",
     "output_type": "stream",
     "text": [
      "\n"
     ]
    }
   ],
   "source": [
    "def eval_success_list_gen(exp_name,round):\n",
    "\n",
    "    exp_path = os.path.join(\"exp\", exp_name)\n",
    "\n",
    "    eval_success_list = []\n",
    "\n",
    "    for index in os.listdir(exp_path):\n",
    "        conv_path = os.path.join(exp_path, index, f\"{round}/conversation.json\")\n",
    "        if not os.path.exists(conv_path):\n",
    "            continue\n",
    "\n",
    "        with open(conv_path, 'r') as file:\n",
    "            conv = json.load(file)\n",
    "        if 'End' in conv[-1]:   \n",
    "            exe_dict = {}\n",
    "            exe_dict[\"index\"] = int(index) \n",
    "            exe_dict[\"step_len\"] = len(conv)\n",
    "\n",
    "            history = conv[-1].split('\\n')[3]\n",
    "            exe_dict[\"history\"] = parse_execution_history(history)\n",
    "            exe_dict[\"history\"].append([\"End\", \"None\", \"None\", \"success\"])\n",
    "            eval_success_list.append(exe_dict) \n",
    "\n",
    "    eval_success_list = sorted(eval_success_list, key=lambda x: x[\"index\"])\n",
    "    # print(len(eval_success_list))\n",
    "\n",
    "    return eval_success_list\n",
    "\n",
    "def load_name_mapping():\n",
    "        with open('hab-mobile-manipulation/name_dict.txt', 'r') as file:\n",
    "            content = file.read()\n",
    "        lines = content.split('\\n')\n",
    "        print(lines[-1])\n",
    "        name_dict = {}\n",
    "        for i in range(0, len(lines), 3):\n",
    "            value = lines[i].strip().strip(':')\n",
    "            key = lines[i + 1].strip()\n",
    "            keys = key.split('/')\n",
    "            for i in keys:\n",
    "                name_dict[i] = value\n",
    "\n",
    "        return name_dict\n",
    "    # mapping item name\n",
    "mapping_dict = load_name_mapping()\n",
    "\n",
    "def match_action(action, keypoint, mapping_dict):\n",
    "        #print(keypoint)\n",
    "        if action[3] == 'fail':\n",
    "               return False\n",
    "\n",
    "        key_action = [element.strip() for element in keypoint.strip('[').strip(']').split(',')]\n",
    "        if len(key_action) == 2:\n",
    "            key_action.append(\"None\")\n",
    "        if action[0] == key_action[0]:\n",
    "                if key_action[0] == \"End\":\n",
    "                    return True\n",
    "                obj1 = mapping_dict[action[1]]\n",
    "                obj2 = mapping_dict[key_action[1]]\n",
    "                if obj1 == obj2:\n",
    "                       obj11 = \"None\" if action[2] == \"None\" else mapping_dict[action[2]]\n",
    "                       obj22 = \"None\" if key_action[2] == \"None\" else mapping_dict[key_action[2]]\n",
    "                       if obj11 == obj22:\n",
    "                              return True\n",
    "        return False\n",
    "\n",
    "def match(list1, list2):\n",
    "    if len(list2) == 0:\n",
    "        return False\n",
    "    index1 = 0\n",
    "    index2 = 0\n",
    "    while index1 < len(list1) and index2 < len(list2):\n",
    "        if match_action(list1[index1], list2[index2], mapping_dict):\n",
    "            index2 += 1\n",
    "        index1 += 1\n",
    "\n",
    "    return index2 == len(list2)\n",
    "\n",
    "def success_list_gen(eval_success_list):\n",
    "    success_list = []\n",
    "\n",
    "    for eval_success in eval_success_list:\n",
    "        task_id = eval_success['index']\n",
    "        history = eval_success['history']\n",
    "        if 1 <= int(task_id) <= 90:\n",
    "            data_dir = \"EMMOE-100/data/train\"\n",
    "        else:\n",
    "            data_dir = \"EMMOE-100/data/test\"\n",
    "\n",
    "        with open(os.path.join(data_dir, str(task_id), \"keypath.json\"), 'r') as file:\n",
    "            keypaths = json.load(file)\n",
    "\n",
    "        for keypath in keypaths:\n",
    "            if match(history, keypath):\n",
    "                success_list.append(task_id)\n",
    "                break\n",
    "    return success_list"
   ]
  },
  {
   "cell_type": "code",
   "execution_count": 7,
   "metadata": {},
   "outputs": [],
   "source": [
    "def error_analysis(exp_name):\n",
    "    L_success, L1_success, L2_success, L3_success, L4_success = 0, 0, 0, 0, 0\n",
    "    L_fail, L1_fail, L2_fail, L3_fail, L4_fail = 0, 0, 0, 0, 0\n",
    "    D_success, D1_success, D2_success = 0, 0, 0\n",
    "    D_fail, D1_fail, D2_fail = 0, 0, 0\n",
    "    F_success, F1_success, F2_success = 0, 0, 0\n",
    "    F_fail, F1_fail, F2_fail = 0, 0, 0\n",
    "    E_success, E1_success, E2_success, E3_success = 0, 0, 0, 0\n",
    "    E_fail, E1_fail, E2_fail, E3_fail = 0, 0, 0, 0\n",
    "    step_success = 0\n",
    "    step_fail = 0\n",
    "    for round in range(1,4):\n",
    "        eval_success_list = eval_success_list_gen(exp_name,round)\n",
    "        success_list = success_list_gen(eval_success_list)\n",
    "        subtask_feedback_list = subtask_feedback_list_gen(exp_name,round)\n",
    "\n",
    "        for task in subtask_feedback_list:\n",
    "            if task['index'] in success_list:\n",
    "                step_success += task['step_len'] - 1\n",
    "            else:\n",
    "                step_fail += task['step_len'] - 1\n",
    "\n",
    "            for step in task['history']:\n",
    "                if 'the target is far away' in step['feedback']:\n",
    "                    if task['index'] in success_list:\n",
    "                        D1_success += 1\n",
    "                    else:\n",
    "                        D1_fail += 1\n",
    "                elif 'the target is too close' in step['feedback']:\n",
    "                    if task['index'] in success_list:\n",
    "                        D2_success += 1\n",
    "                    else:\n",
    "                        D2_fail += 1\n",
    "                elif 'is not in the action list! You should only choose actions in the list' in step['feedback']:\n",
    "                    if task['index'] in success_list:\n",
    "                        F1_success += 1\n",
    "                    else:\n",
    "                        F1_fail += 1\n",
    "                elif 'does not exist! Please choose another object' in step['feedback']:\n",
    "                    if task['index'] in success_list:\n",
    "                        F2_success += 1\n",
    "                    else:\n",
    "                        F2_fail += 1\n",
    "                elif 'the hand is full' in step['feedback']:\n",
    "                    if task['index'] in success_list:\n",
    "                        L1_success += 1\n",
    "                    else:\n",
    "                        L1_fail += 1\n",
    "                elif 'the hand is empty' in step['feedback']:\n",
    "                    if task['index'] in success_list:\n",
    "                        L2_success += 1\n",
    "                    else:\n",
    "                        L2_fail += 1\n",
    "                elif 'is closed, you should open it first' in step['feedback']:\n",
    "                    if task['index'] in success_list:\n",
    "                        L3_success += 1\n",
    "                    else:\n",
    "                        L3_fail += 1\n",
    "                elif 'Please choose another object' in step['feedback']:\n",
    "                    if task['index'] in success_list:\n",
    "                        L4_success += 1\n",
    "                    else:\n",
    "                        L4_fail += 1\n",
    "                elif 'the subtask is too difficult to perform' in step['feedback']:\n",
    "                    if task['index'] in success_list:\n",
    "                        E1_success += 1\n",
    "                    else:\n",
    "                        E1_fail += 1\n",
    "                elif 'and the object is missing' in step['feedback']:\n",
    "                    if task['index'] in success_list:\n",
    "                        E2_success += 1\n",
    "                    else:\n",
    "                        E2_fail += 1\n",
    "                elif 'time out' in step['feedback']:\n",
    "                    if task['index'] in success_list:\n",
    "                        E3_success += 1\n",
    "                    else:\n",
    "                        E3_fail += 1\n",
    "    L_success = L1_success + L2_success + L3_success + L4_success\n",
    "    L_fail = L1_fail + L2_fail + L3_fail + L4_fail\n",
    "    D_success = D1_success + D2_success\n",
    "    D_fail = D1_fail + D2_fail\n",
    "    F_success = F1_success + F2_success\n",
    "    F_fail = F1_fail + F2_fail\n",
    "    E_success = E1_success + E2_success + E3_success\n",
    "    E_fail = E1_fail + E2_fail + E3_fail\n",
    "    return L1_success, L1_fail, L2_success, L2_fail, L3_success, L3_fail, L4_success, L4_fail, D1_success, D1_fail, D2_success, D2_fail, F1_success, F1_fail, F2_success, F2_fail, E1_success, E1_fail, E2_success, E2_fail, E3_success, E3_fail, step_success, step_fail"
   ]
  },
  {
   "cell_type": "markdown",
   "metadata": {},
   "source": [
    "# Format error\n",
    "if action not in [\"go to\", \"open\", \"close\", \"pick\", \"put\", \"end\"]:\n",
    "        return 'fail', f'{action} is not in the action list! You should only choose actions in the list.', state_info, None\n",
    "return 'fail', f'{input_item} does not exist! Please choose another object', state_info, None\n",
    "# Logical error\n",
    "    if inventory != 'None' and action in ['pick', 'open', 'close']:\n",
    "        return 'fail', f'Unable to {action}, the hand is full', state_info, None\n",
    "    if inventory == 'None' and action == 'put':\n",
    "        return 'fail', f'Unable to {action}, the hand is empty', state_info, None\n",
    "    if action == 'put' and state_info['art_objs_qpos']['fridge_:0000'][1] < 0.8  and input_item == 'fridge': \n",
    "        return 'fail', f'Unable to {action}, the {input_item} is closed, you should open it first', state_info, None\n",
    "    if action == 'put' and state_info['art_objs_qpos']['kitchen_counter_:0000'][drawer_cnt] < 0.25  and  'drawer' in input_item:\n",
    "        return 'fail', f'Unable to {action}, the {input_item} is closed, you should open it first', state_info, None\n",
    "    if action in ['open','close'] and 'drawer' not in input_item and 'fridge' not in input_item:\n",
    "        return 'fail', f'Can not {action} {input_item}! Please choose another object', state_info, None\n",
    "\n",
    "\n",
    "\n",
    "# Distance error\n",
    "if distance > 2:\n",
    "            return 'fail', f'Unable to {action}, the target is far away', state_info, None\n",
    "if distance < 0.1:\n",
    "            return 'fail', f'Unable to {action}, the target is too close', state_info, None\n",
    "\n",
    "\n",
    "\n",
    "\n",
    "# LLE error\n",
    "if signal == 'fail':\n",
    "        return 'fail', f'Unable to {action}, time out', state_info, video_images\n",
    "\n",
    "\n",
    "if 'time out' in feedback:\n",
    "                    if retry == 2:\n",
    "                        feedback = f'Unable to {action}, the subtask is too difficult to perform'\n",
    "\n",
    "if 'time out' in feedback and state_info['grasped_obj'] is None:\n",
    "                        feedback = f'Unable to {action}, and the object is missing'"
   ]
  },
  {
   "cell_type": "code",
   "execution_count": 8,
   "metadata": {},
   "outputs": [],
   "source": [
    "# exp_name = 'GPT4'\n",
    "L1_success, L1_fail, L2_success, L2_fail, L3_success, L3_fail, L4_success, L4_fail, D1_success, D1_fail, D2_success, D2_fail, F1_success, F1_fail, F2_success, F2_fail, E1_success, E1_fail, E2_success, E2_fail, E3_success, E3_fail, step_success, step_fail = error_analysis(exp_name)\n",
    "# L_success, L_fail, D_success, D_fail, F_success, F_fail, E_success, E_fail, error_success, error_fail = error_analysis(exp_name)\n",
    "L_success = L1_success + L2_success + L3_success + L4_success\n",
    "L_fail = L1_fail + L2_fail + L3_fail + L4_fail\n",
    "D_success = D1_success + D2_success\n",
    "D_fail = D1_fail + D2_fail\n",
    "F_success = F1_success + F2_success\n",
    "F_fail = F1_fail + F2_fail\n",
    "E_success = E1_success + E2_success + E3_success\n",
    "E_fail = E1_fail + E2_fail + E3_fail\n",
    "L_success_per = L_success / (L_success + D_success + F_success + E_success)\n",
    "L_fail_per = L_fail / (L_fail + D_fail + F_fail + E_fail)\n",
    "D_success_per = D_success / (L_success + D_success + F_success + E_success)\n",
    "D_fail_per = D_fail / (L_fail + D_fail + F_fail + E_fail)\n",
    "F_success_per = F_success / (L_success + D_success + F_success + E_success)\n",
    "F_fail_per = F_fail / (L_fail + D_fail + F_fail + E_fail)\n",
    "E_success_per = E_success / (L_success + D_success + F_success + E_success)\n",
    "E_fail_per = E_fail / (L_fail + D_fail + F_fail + E_fail)\n",
    "All_success_per = (L_success + D_success + F_success + E_success) / (step_success)\n",
    "All_fail_per = (L_fail + D_fail + F_fail + E_fail) / (step_fail)"
   ]
  },
  {
   "cell_type": "code",
   "execution_count": 9,
   "metadata": {},
   "outputs": [
    {
     "data": {
      "text/plain": [
       "{'L1_success': 5,\n",
       " 'L1_fail': 228,\n",
       " 'L2_success': 1,\n",
       " 'L2_fail': 4,\n",
       " 'L3_success': 1,\n",
       " 'L3_fail': 23,\n",
       " 'L4_success': 0,\n",
       " 'L4_fail': 121,\n",
       " 'D1_success': 56,\n",
       " 'D1_fail': 279,\n",
       " 'D2_success': 0,\n",
       " 'D2_fail': 2,\n",
       " 'F1_success': 2,\n",
       " 'F1_fail': 19,\n",
       " 'F2_success': 22,\n",
       " 'F2_fail': 2152,\n",
       " 'E1_success': 20,\n",
       " 'E1_fail': 464,\n",
       " 'E2_success': 2,\n",
       " 'E2_fail': 17,\n",
       " 'E3_success': 17,\n",
       " 'E3_fail': 8}"
      ]
     },
     "execution_count": 9,
     "metadata": {},
     "output_type": "execute_result"
    }
   ],
   "source": [
    "resulttt = {}\n",
    "str_list = 'L1_success, L1_fail, L2_success, L2_fail, L3_success, L3_fail, L4_success, L4_fail, D1_success, D1_fail, D2_success, D2_fail, F1_success, F1_fail, F2_success, F2_fail, E1_success, E1_fail, E2_success, E2_fail, E3_success, E3_fail'.split(', ')\n",
    "for i in range(len(str_list)):\n",
    "    resulttt[str_list[i]] = [L1_success, L1_fail, L2_success, L2_fail, L3_success, L3_fail, L4_success, L4_fail, D1_success, D1_fail, D2_success, D2_fail, F1_success, F1_fail, F2_success, F2_fail, E1_success, E1_fail, E2_success, E2_fail, E3_success, E3_fail][i]\n",
    "resulttt"
   ]
  },
  {
   "cell_type": "code",
   "execution_count": 10,
   "metadata": {},
   "outputs": [
    {
     "data": {
      "text/plain": [
       "(7, 376, 56, 281, 24, 2171, 39, 489, 416, 4506)"
      ]
     },
     "execution_count": 10,
     "metadata": {},
     "output_type": "execute_result"
    }
   ],
   "source": [
    "L_success, L_fail, D_success, D_fail, F_success, F_fail, E_success, E_fail, step_success, step_fail"
   ]
  },
  {
   "cell_type": "code",
   "execution_count": 11,
   "metadata": {},
   "outputs": [
    {
     "data": {
      "text/plain": [
       "(126, 3317)"
      ]
     },
     "execution_count": 11,
     "metadata": {},
     "output_type": "execute_result"
    }
   ],
   "source": [
    "error_success = L_success + D_success + F_success + E_success\n",
    "erroor_fail = L_fail + D_fail + F_fail + E_fail\n",
    "error_success, erroor_fail"
   ]
  },
  {
   "cell_type": "code",
   "execution_count": 12,
   "metadata": {},
   "outputs": [
    {
     "data": {
      "text/plain": [
       "4922"
      ]
     },
     "execution_count": 12,
     "metadata": {},
     "output_type": "execute_result"
    }
   ],
   "source": [
    "step_success + step_fail"
   ]
  },
  {
   "cell_type": "code",
   "execution_count": 13,
   "metadata": {},
   "outputs": [
    {
     "data": {
      "text/plain": [
       "(416, 4506)"
      ]
     },
     "execution_count": 13,
     "metadata": {},
     "output_type": "execute_result"
    }
   ],
   "source": [
    "step_success,step_fail"
   ]
  },
  {
   "cell_type": "markdown",
   "metadata": {},
   "source": [
    "Table 6"
   ]
  },
  {
   "cell_type": "code",
   "execution_count": 14,
   "metadata": {},
   "outputs": [],
   "source": [
    "def LLE_error_analysis(exp_name):\n",
    "    Nav = 0\n",
    "    Pick = 0\n",
    "    Place = 0\n",
    "    Open = 0\n",
    "    Close = 0\n",
    "    SR_range = {'Nav':[],'Pick':[],'Place':[],'Open':[],'Close':[]}\n",
    "    for round in range(1,4):\n",
    "\n",
    "        subtask_feedback_list = subtask_feedback_list_gen(exp_name,round)\n",
    "\n",
    "        Nav_success = 0\n",
    "        Nav_fail = 0\n",
    "        Pick_success = 0\n",
    "        Pick_fail = 0\n",
    "        Place_success = 0\n",
    "        Place_fail = 0\n",
    "        Open_success = 0\n",
    "        Open_fail = 0\n",
    "        Close_success = 0\n",
    "        Close_fail = 0\n",
    "\n",
    "        for task in subtask_feedback_list:\n",
    "\n",
    "            for step in task['history']:\n",
    "                if 'the target is far away' in step['feedback'] or 'the target is too close' in step['feedback']:\n",
    "                    continue\n",
    "                elif 'is not in the action list! You should only choose actions in the list' in step['feedback'] or 'does not exist! Please choose another object' in step['feedback']:\n",
    "                    continue\n",
    "                elif 'the hand is full' in step['feedback'] or 'the hand is empty' in step['feedback'] or 'is closed, you should open it first' in step['feedback'] or 'Please choose another object' in step['feedback']:\n",
    "                    continue\n",
    "                elif 'None' not in step['feedback']:\n",
    "                    if 'Go to' in step['subtask']:\n",
    "                        Nav_fail += 1\n",
    "                    elif 'Pick' in step['subtask']:\n",
    "                        Pick_fail += 1\n",
    "                    elif 'Put' in step['subtask']:\n",
    "                        Place_fail += 1\n",
    "                        # if 'time out' in step['feedback']:\n",
    "                        #     print(step['step'],step['subtask'])\n",
    "                        #     print(round,task['index'])\n",
    "                    elif 'Open' in step['subtask']:\n",
    "                        Open_fail += 1\n",
    "                    elif 'Close' in step['subtask']:\n",
    "                        Close_fail += 1\n",
    "                else:\n",
    "                    if 'Go to' in step['subtask']:\n",
    "                        Nav_success += 1\n",
    "                    elif 'Pick' in step['subtask']:\n",
    "                        Pick_success += 1\n",
    "                    elif 'Put' in step['subtask']:\n",
    "                        Place_success += 1\n",
    "                    elif 'Open' in step['subtask']:\n",
    "                        Open_success += 1\n",
    "                    elif 'Close' in step['subtask']:\n",
    "                        Close_success += 1\n",
    "        Nav += Nav_fail\n",
    "        Pick += Pick_fail\n",
    "        Place += Place_fail\n",
    "        Open += Open_fail\n",
    "        Close += Close_fail\n",
    "\n",
    "        SR_range['Nav'].append(Nav_success/max(0.001,(Nav_success+Nav_fail)))\n",
    "        SR_range['Pick'].append(Pick_success/max(0.001,(Pick_success+Pick_fail)))\n",
    "        SR_range['Place'].append(Place_success/max(0.001,(Place_success+Place_fail)))\n",
    "        SR_range['Open'].append(Open_success/max(0.001,(Open_success+Open_fail)))\n",
    "        SR_range['Close'].append(Close_success/max(0.001,(Close_success+Close_fail)))\n",
    "    return Nav, Pick, Place, Open, Close, SR_range"
   ]
  },
  {
   "cell_type": "code",
   "execution_count": 15,
   "metadata": {},
   "outputs": [],
   "source": [
    "Nav, Pick, Place, Open, Close, SR_range = LLE_error_analysis(exp_name)\n",
    "Nav_per = Nav / (Nav + Pick + Place + Open + Close)\n",
    "Pick_per = Pick / (Nav + Pick + Place + Open + Close)\n",
    "Place_per = Place / (Nav + Pick + Place + Open + Close)\n",
    "Open_per = Open / (Nav + Pick + Place + Open + Close)\n",
    "Close_per = Close / (Nav + Pick + Place + Open + Close)\n",
    "Nav_SR = [min(SR_range['Nav']), max(SR_range['Nav'])]\n",
    "Pick_SR = [min(SR_range['Pick']), max(SR_range['Pick'])]\n",
    "Place_SR = [min(SR_range['Place']), max(SR_range['Place'])]\n",
    "Open_SR = [min(SR_range['Open']), max(SR_range['Open'])]\n",
    "Close_SR = [min(SR_range['Close']), max(SR_range['Close'])]"
   ]
  },
  {
   "cell_type": "code",
   "execution_count": 16,
   "metadata": {},
   "outputs": [
    {
     "data": {
      "text/plain": [
       "(107,\n",
       " 362,\n",
       " 44,\n",
       " 15,\n",
       " 0,\n",
       " {'Nav': [0.9444444444444444, 0.88, 0.8631284916201117],\n",
       "  'Pick': [0.453781512605042, 0.475, 0.41743119266055045],\n",
       "  'Place': [0.84, 0.8089887640449438, 0.872093023255814],\n",
       "  'Open': [0.6875, 0.6, 0.7894736842105263],\n",
       "  'Close': [0.0, 0.0, 1.0]})"
      ]
     },
     "execution_count": 16,
     "metadata": {},
     "output_type": "execute_result"
    }
   ],
   "source": [
    "Nav, Pick, Place, Open, Close, SR_range"
   ]
  },
  {
   "cell_type": "code",
   "execution_count": 17,
   "metadata": {},
   "outputs": [
    {
     "data": {
      "text/plain": [
       "528"
      ]
     },
     "execution_count": 17,
     "metadata": {},
     "output_type": "execute_result"
    }
   ],
   "source": [
    "Nav+ Pick+ Place+ Open+ Close"
   ]
  },
  {
   "cell_type": "code",
   "execution_count": 18,
   "metadata": {},
   "outputs": [
    {
     "data": {
      "text/plain": [
       "([0.8631284916201117, 0.9444444444444444],\n",
       " [0.41743119266055045, 0.475],\n",
       " [0.8089887640449438, 0.872093023255814],\n",
       " [0.6, 0.7894736842105263],\n",
       " [0.0, 1.0])"
      ]
     },
     "execution_count": 18,
     "metadata": {},
     "output_type": "execute_result"
    }
   ],
   "source": [
    "Nav_SR, Pick_SR, Place_SR, Open_SR, Close_SR"
   ]
  },
  {
   "cell_type": "code",
   "execution_count": 19,
   "metadata": {},
   "outputs": [],
   "source": [
    "def LLE_error_analysis_overall():\n",
    "\n",
    "    Nav_success = 0\n",
    "    Nav_fail = 0\n",
    "    Pick_success = 0\n",
    "    Pick_fail = 0\n",
    "    Place_success = 0\n",
    "    Place_fail = 0\n",
    "    Open_success = 0\n",
    "    Open_fail = 0\n",
    "    Close_success = 0\n",
    "    Close_fail = 0\n",
    "    for exp_name in ['GPT4','Gemini','Qwen2VL','MiniCPM','sft','sft+dpo']:\n",
    "        for round in range(1,4):\n",
    "\n",
    "            subtask_feedback_list = subtask_feedback_list_gen(exp_name,round)\n",
    "\n",
    "            for task in subtask_feedback_list:\n",
    "\n",
    "                for step in task['history']:\n",
    "                    if 'the target is far away' in step['feedback'] or 'the target is too close' in step['feedback']:\n",
    "                        continue\n",
    "                    elif 'is not in the action list! You should only choose actions in the list' in step['feedback'] or 'does not exist! Please choose another object' in step['feedback']:\n",
    "                        continue\n",
    "                    elif 'the hand is full' in step['feedback'] or 'the hand is empty' in step['feedback'] or 'is closed, you should open it first' in step['feedback'] or 'Please choose another object' in step['feedback']:\n",
    "                        continue\n",
    "                    elif 'None' not in step['feedback']:\n",
    "                        if 'Go to' in step['subtask']:\n",
    "                            Nav_fail += 1\n",
    "                        elif 'Pick' in step['subtask']:\n",
    "                            Pick_fail += 1\n",
    "                        elif 'Put' in step['subtask']:\n",
    "                            Place_fail += 1\n",
    "                            # if 'time out' in step['feedback']:\n",
    "                            #     print(step['step'],step['subtask'])\n",
    "                            #     print(round,task['index'])\n",
    "                        elif 'Open' in step['subtask']:\n",
    "                            Open_fail += 1\n",
    "                        elif 'Close' in step['subtask']:\n",
    "                            Close_fail += 1\n",
    "                    else:\n",
    "                        if 'Go to' in step['subtask']:\n",
    "                            Nav_success += 1\n",
    "                        elif 'Pick' in step['subtask']:\n",
    "                            Pick_success += 1\n",
    "                        elif 'Put' in step['subtask']:\n",
    "                            Place_success += 1\n",
    "                        elif 'Open' in step['subtask']:\n",
    "                            Open_success += 1\n",
    "                        elif 'Close' in step['subtask']:\n",
    "                            Close_success += 1\n",
    "\n",
    "    return Nav_success,Nav_fail,Pick_success,Pick_fail,Place_success,Place_fail,Open_success,Open_fail,Close_success,Close_fail"
   ]
  },
  {
   "cell_type": "code",
   "execution_count": 20,
   "metadata": {},
   "outputs": [
    {
     "data": {
      "text/plain": [
       "(938, 1213, 178, 81, 27)"
      ]
     },
     "execution_count": 20,
     "metadata": {},
     "output_type": "execute_result"
    }
   ],
   "source": [
    "Nav_success,Nav_fail,Pick_success,Pick_fail,Place_success,Place_fail,Open_success,Open_fail,Close_success,Close_fail = LLE_error_analysis_overall()\n",
    "Nav_fail,Pick_fail,Place_fail,Open_fail,Close_fail"
   ]
  },
  {
   "cell_type": "code",
   "execution_count": 21,
   "metadata": {},
   "outputs": [
    {
     "data": {
      "text/plain": [
       "2437"
      ]
     },
     "execution_count": 21,
     "metadata": {},
     "output_type": "execute_result"
    }
   ],
   "source": [
    "Nav_fail+Pick_fail+Place_fail+Open_fail+Close_fail"
   ]
  },
  {
   "cell_type": "code",
   "execution_count": 22,
   "metadata": {},
   "outputs": [
    {
     "data": {
      "text/plain": [
       "(0.828936170212766, 0.4532340623545835, 0.31187960294588535)"
      ]
     },
     "execution_count": 22,
     "metadata": {},
     "output_type": "execute_result"
    }
   ],
   "source": [
    "Nav_success/(Nav_fail*3 + Nav_success), Nav_success/(Nav_fail*3 + Nav_success*2), Nav_success/(Nav_fail*3 + Nav_success*3)"
   ]
  },
  {
   "cell_type": "code",
   "execution_count": 23,
   "metadata": {},
   "outputs": [
    {
     "data": {
      "text/plain": [
       "(0.289535337758688, 0.22452687358062073, 0.18335806132542037)"
      ]
     },
     "execution_count": 23,
     "metadata": {},
     "output_type": "execute_result"
    }
   ],
   "source": [
    "Pick_success/(Pick_fail*3 + Pick_success), Pick_success/(Pick_fail*3 + Pick_success*2), Pick_success/(Pick_fail*3 + Pick_success*3)"
   ]
  },
  {
   "cell_type": "code",
   "execution_count": 24,
   "metadata": {},
   "outputs": [
    {
     "data": {
      "text/plain": [
       "(0.6939828080229227, 0.40967523680649526, 0.2906167506599472)"
      ]
     },
     "execution_count": 24,
     "metadata": {},
     "output_type": "execute_result"
    }
   ],
   "source": [
    "Place_success/(Place_fail*3 + Place_success), Place_success/(Place_fail*3 + Place_success*2), Place_success/(Place_fail*3 + Place_success*3)"
   ]
  },
  {
   "cell_type": "code",
   "execution_count": 25,
   "metadata": {},
   "outputs": [
    {
     "data": {
      "text/plain": [
       "(0.7584493041749503, 0.4313171283210854, 0.3013428120063191)"
      ]
     },
     "execution_count": 25,
     "metadata": {},
     "output_type": "execute_result"
    }
   ],
   "source": [
    "Open_success/(Open_fail*3 + Open_success), Open_success/(Open_fail*3 + Open_success*2), Open_success/(Open_fail*3 + Open_success*3)"
   ]
  },
  {
   "cell_type": "code",
   "execution_count": 26,
   "metadata": {},
   "outputs": [
    {
     "data": {
      "text/plain": [
       "(0.5736842105263158, 0.36454849498327757, 0.26715686274509803)"
      ]
     },
     "execution_count": 26,
     "metadata": {},
     "output_type": "execute_result"
    }
   ],
   "source": [
    "Close_success/(Close_fail*3 + Close_success), Close_success/(Close_fail*3 + Close_success*2), Close_success/(Close_fail*3 + Close_success*3)"
   ]
  }
 ],
 "metadata": {
  "kernelspec": {
   "display_name": "hab-mm",
   "language": "python",
   "name": "python3"
  },
  "language_info": {
   "codemirror_mode": {
    "name": "ipython",
    "version": 3
   },
   "file_extension": ".py",
   "mimetype": "text/x-python",
   "name": "python",
   "nbconvert_exporter": "python",
   "pygments_lexer": "ipython3",
   "version": "3.7.12"
  }
 },
 "nbformat": 4,
 "nbformat_minor": 2
}
