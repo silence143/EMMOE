{
 "cells": [
  {
   "cell_type": "code",
   "execution_count": 1,
   "metadata": {},
   "outputs": [],
   "source": [
    "import os \n",
    "import json\n",
    "import re"
   ]
  },
  {
   "cell_type": "code",
   "execution_count": 2,
   "metadata": {},
   "outputs": [],
   "source": [
    "exp_name = \"MiniCPM\"\n",
    "flag = 'all'"
   ]
  },
  {
   "cell_type": "code",
   "execution_count": 3,
   "metadata": {},
   "outputs": [],
   "source": [
    "if flag == 'train':\n",
    "    ran = range(1,91)\n",
    "elif flag == 'test':\n",
    "    ran = range(91,101)\n",
    "else:\n",
    "    ran = range(1,101)"
   ]
  },
  {
   "cell_type": "code",
   "execution_count": null,
   "metadata": {},
   "outputs": [],
   "source": [
    "def parse_execution_history(history_string):\n",
    "    history_string = history_string.replace(\"Historical Execution: \", \"\")\n",
    "    historty_splits = re.split(r'(\\(fail\\)|\\(success\\))\\s', history_string)\n",
    "\n",
    "    parsed_steps = []\n",
    "\n",
    "    for i in range(0, len(historty_splits)-1, 2):\n",
    "        result = 'success' if 'success' in historty_splits[i+1] else 'fail'\n",
    "        action_parts = re.sub(r'\\(.*?\\)', '', historty_splits[i], 1).strip().lstrip('[').rstrip(']').split(',')\n",
    "        \n",
    "        parsed_step = [\n",
    "            action_parts[0].strip(),\n",
    "            action_parts[1].strip().lower() if len(action_parts) > 1 else \"None\",\n",
    "            action_parts[2].strip().lower() if len(action_parts) > 2 else \"None\",\n",
    "            result\n",
    "        ]\n",
    "        parsed_steps.append(parsed_step)\n",
    "\n",
    "    return parsed_steps\n"
   ]
  },
  {
   "cell_type": "code",
   "execution_count": null,
   "metadata": {},
   "outputs": [],
   "source": [
    "def eval_success_list_gen(exp_name,round):\n",
    "\n",
    "    exp_path = os.path.join(\"exp\", exp_name)\n",
    "\n",
    "    eval_success_list = []\n",
    "\n",
    "    for index in os.listdir(exp_path):\n",
    "        conv_path = os.path.join(exp_path, index, f\"{round}/conversation.json\")\n",
    "        if not os.path.exists(conv_path):\n",
    "            continue\n",
    "\n",
    "        with open(conv_path, 'r') as file:\n",
    "            conv = json.load(file)\n",
    "        if 'End' in conv[-1]:   \n",
    "            exe_dict = {}\n",
    "            exe_dict[\"index\"] = int(index) \n",
    "            exe_dict[\"step_len\"] = len(conv)\n",
    "\n",
    "            history = conv[-1].split('\\n')[3]\n",
    "            exe_dict[\"history\"] = parse_execution_history(history)\n",
    "            exe_dict[\"history\"].append([\"End\", \"None\", \"None\", \"success\"])\n",
    "            eval_success_list.append(exe_dict) \n",
    "\n",
    "    eval_success_list = sorted(eval_success_list, key=lambda x: x[\"index\"])\n",
    "    #print(len(eval_success_list))\n",
    "\n",
    "    return eval_success_list\n",
    "\n",
    "def load_name_mapping():\n",
    "        with open('hab-mobile-manipulation/name_dict.txt', 'r') as file:\n",
    "            content = file.read()\n",
    "        lines = content.split('\\n')\n",
    "\n",
    "        name_dict = {}\n",
    "        for i in range(0, len(lines), 3):\n",
    "            value = lines[i].strip().strip(':')\n",
    "            key = lines[i + 1].strip()\n",
    "            keys = key.split('/')\n",
    "            for i in keys:\n",
    "                name_dict[i] = value\n",
    "\n",
    "        return name_dict\n",
    "    # mapping item name\n",
    "mapping_dict = load_name_mapping()\n",
    "\n",
    "def match_action(action, keypoint, mapping_dict):\n",
    "        #print(keypoint)\n",
    "        if action[3] == 'fail':\n",
    "               return False\n",
    "\n",
    "        key_action = [element.strip() for element in keypoint.strip('[').strip(']').split(',')]\n",
    "        if len(key_action) == 2:\n",
    "            key_action.append(\"None\")\n",
    "        if action[0] == key_action[0]:\n",
    "                if key_action[0] == \"End\":\n",
    "                    return True\n",
    "                obj1 = mapping_dict[action[1]]\n",
    "                obj2 = mapping_dict[key_action[1]]\n",
    "                if obj1 == obj2:\n",
    "                       obj11 = \"None\" if action[2] == \"None\" else mapping_dict[action[2]]\n",
    "                       obj22 = \"None\" if key_action[2] == \"None\" else mapping_dict[key_action[2]]\n",
    "                       if obj11 == obj22:\n",
    "                              return True\n",
    "        return False\n",
    "\n",
    "def match(list1, list2):\n",
    "    if len(list2) == 0:\n",
    "        return False\n",
    "    index1 = 0\n",
    "    index2 = 0\n",
    "\n",
    "    while index1 < len(list1) and index2 < len(list2):\n",
    "        if match_action(list1[index1], list2[index2], mapping_dict):\n",
    "            index2 += 1\n",
    "        index1 += 1\n",
    "    \n",
    "    return index2 == len(list2)\n"
   ]
  },
  {
   "cell_type": "code",
   "execution_count": null,
   "metadata": {},
   "outputs": [],
   "source": [
    "def eval_list_gen_ran(exp_name,round,ran):\n",
    "    exp_path = os.path.join(\"exp\", exp_name)\n",
    "\n",
    "    eval_list = []\n",
    "\n",
    "    for index in os.listdir(exp_path):\n",
    "        conv_path = os.path.join(exp_path, index, f\"{round}/conversation.json\")\n",
    "        if not os.path.exists(conv_path):\n",
    "            continue\n",
    "\n",
    "        if int(index) in ran:\n",
    "            with open(conv_path, 'r') as file:\n",
    "                conv = json.load(file)  \n",
    "            exe_dict = {}\n",
    "            exe_dict[\"index\"] = int(index) \n",
    "            exe_dict[\"step_len\"] = len(conv)\n",
    "\n",
    "            history = conv[-1].split('\\n')[3]\n",
    "            exe_dict[\"history\"] = parse_execution_history(history)\n",
    "            if 'End' in conv[-1]: \n",
    "                exe_dict[\"history\"].append(['End'])\n",
    "            eval_list.append(exe_dict) \n",
    "\n",
    "    eval_list = sorted(eval_list, key=lambda x: x[\"index\"])\n",
    "    #print(len(eval_list))\n",
    "\n",
    "    return eval_list\n",
    "\n",
    "def ser(exp_name, ran):\n",
    "    success_end = 0\n",
    "    end_count = 0\n",
    "    for round in range(1, 4):\n",
    "        eval_list = eval_list_gen_ran(exp_name,round,ran)\n",
    "        eval_success_list = eval_success_list_gen(exp_name,round)\n",
    "\n",
    "        success_list = []\n",
    "\n",
    "        for eval_success in eval_success_list:\n",
    "            task_id = eval_success['index']\n",
    "            history = eval_success['history']\n",
    "            if 1 <= int(task_id) <= 90:\n",
    "                data_dir = \"EMMOE-100/data/train\"\n",
    "            else:\n",
    "                data_dir = \"EMMOE-100/data/test\"\n",
    "\n",
    "            with open(os.path.join(data_dir, str(task_id), \"keypath.json\"), 'r') as file:\n",
    "                keypaths = json.load(file)\n",
    "\n",
    "            for keypath in keypaths:\n",
    "                if match(history, keypath):\n",
    "                    success_list.append(task_id)\n",
    "                    break\n",
    "\n",
    "        #print(len(success_list))\n",
    "        for i in eval_list:\n",
    "            if ['End'] in i['history']:\n",
    "                end_count += 1\n",
    "                if i['index'] in success_list:\n",
    "                    success_end += 1\n",
    "    print(success_end, end_count)\n",
    "    \n",
    "    return success_end/end_count"
   ]
  },
  {
   "cell_type": "code",
   "execution_count": 7,
   "metadata": {},
   "outputs": [
    {
     "name": "stdout",
     "output_type": "stream",
     "text": [
      "2 5\n"
     ]
    },
    {
     "data": {
      "text/plain": [
       "0.4"
      ]
     },
     "execution_count": 7,
     "metadata": {},
     "output_type": "execute_result"
    }
   ],
   "source": [
    "ser(exp_name,ran)"
   ]
  }
 ],
 "metadata": {
  "kernelspec": {
   "display_name": "hab-mm",
   "language": "python",
   "name": "python3"
  },
  "language_info": {
   "codemirror_mode": {
    "name": "ipython",
    "version": 3
   },
   "file_extension": ".py",
   "mimetype": "text/x-python",
   "name": "python",
   "nbconvert_exporter": "python",
   "pygments_lexer": "ipython3",
   "version": "3.7.12"
  }
 },
 "nbformat": 4,
 "nbformat_minor": 2
}
